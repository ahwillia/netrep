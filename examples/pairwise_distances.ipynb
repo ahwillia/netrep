{
 "cells": [
  {
   "attachments": {},
   "cell_type": "markdown",
   "metadata": {},
   "source": [
    "# Computing pairwise distances between networks\n",
    "\n",
    "To use the built-in `pairwise_distances()` function, we recommend setting the envrionment variable 'OMP_NUM_THREADS' to 1. This will prevent oversubscription (i.e. using more threads than available cores), which can cause the function to run slower than expected."
   ]
  },
  {
   "cell_type": "code",
   "execution_count": 3,
   "metadata": {},
   "outputs": [
    {
     "name": "stdout",
     "output_type": "stream",
     "text": [
      "num cpus: 128\n"
     ]
    }
   ],
   "source": [
    "import multiprocessing\n",
    "import os\n",
    "print(f'num cpus: {multiprocessing.cpu_count()}')\n",
    "# set omp threads to 1 to avoid slowdowns due to parallelization\n",
    "os.environ['OMP_NUM_THREADS'] = '1'\n",
    "\n",
    "import numpy as np\n",
    "from netrep.metrics import LinearMetric "
   ]
  },
  {
   "cell_type": "code",
   "execution_count": 4,
   "metadata": {},
   "outputs": [
    {
     "name": "stdout",
     "output_type": "stream",
     "text": [
      "Parallelizing 2016 distance calculations with 128 processes.\n"
     ]
    },
    {
     "name": "stderr",
     "output_type": "stream",
     "text": [
      "Computing distances: 100%|███████████████████████████████████████████████████████████████████████████████████████████████████████████| 2016/2016 [00:07<00:00, 285.44it/s]\n"
     ]
    },
    {
     "name": "stdout",
     "output_type": "stream",
     "text": [
      "(64, 64) 5478.173387196459\n",
      "(64, 64) 6333.232718084371\n"
     ]
    }
   ],
   "source": [
    "def get_data_linear(n_networks, n_images, n_neurons, rng):\n",
    "    return [rng.standard_normal((n_images, n_neurons)) for _ in range(n_networks)]\n",
    "\n",
    "def compute_pairwise_linear(rng):\n",
    "    n_networks, n_images, n_neurons = 64, 1024, 64\n",
    "    metric = LinearMetric()\n",
    "    train_data = get_data_linear(n_networks, n_images, n_neurons, rng)\n",
    "    test_data = get_data_linear(n_networks, n_images, n_neurons, rng)\n",
    "    D_train, D_test = metric.pairwise_distances(train_data, test_data)\n",
    "\n",
    "    print(D_train.shape, D_train.sum())\n",
    "    print(D_test.shape, D_test.sum())\n",
    "\n",
    "\n",
    "rng = np.random.default_rng(0)\n",
    "compute_pairwise_linear(rng)"
   ]
  }
 ],
 "metadata": {
  "kernelspec": {
   "display_name": "Python 3 (ipykernel)",
   "language": "python",
   "name": "python3"
  },
  "language_info": {
   "codemirror_mode": {
    "name": "ipython",
    "version": 3
   },
   "file_extension": ".py",
   "mimetype": "text/x-python",
   "name": "python",
   "nbconvert_exporter": "python",
   "pygments_lexer": "ipython3",
   "version": "3.9.7"
  },
  "orig_nbformat": 4
 },
 "nbformat": 4,
 "nbformat_minor": 2
}
